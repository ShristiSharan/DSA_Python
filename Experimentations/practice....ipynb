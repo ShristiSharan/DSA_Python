{
 "cells": [
  {
   "cell_type": "code",
   "execution_count": 9,
   "id": "bc4c3356",
   "metadata": {},
   "outputs": [
    {
     "name": "stdout",
     "output_type": "stream",
     "text": [
      "transfer disk 1 from S to H\n",
      "transfer disk 2 from S to D\n",
      "transfer disk 1 from H to D\n"
     ]
    }
   ],
   "source": [
    "def towerOfHanoi(n,src,helper,dest):\n",
    "    c=str(n)\n",
    "    if(n == 1):\n",
    "        print(\"transfer disk \"+ c+\" from \"+src+\" to \"+dest)\n",
    "        return\n",
    "    towerOfHanoi(n-1,src,dest,helper)\n",
    "    print(\"transfer disk \"+ c +\" from \"+src+\" to \"+dest)\n",
    "    towerOfHanoi(n-1,helper,src,dest)\n",
    "\n",
    "n=2\n",
    "towerOfHanoi(n,\"S\",\"H\",\"D\")\n",
    "\n",
    "                                                                                                                                                                                                                                                                                           \n"
   ]
  },
  {
   "cell_type": "code",
   "execution_count": 8,
   "id": "c27bffe9",
   "metadata": {},
   "outputs": [
    {
     "name": "stdout",
     "output_type": "stream",
     "text": [
      "5\n"
     ]
    }
   ],
   "source": [
    "n=5\n",
    "c=str(n)\n",
    "print(c)\n"
   ]
  },
  {
   "cell_type": "code",
   "execution_count": 14,
   "id": "cb4bf1c5",
   "metadata": {},
   "outputs": [
    {
     "ename": "RecursionError",
     "evalue": "maximum recursion depth exceeded in comparison",
     "output_type": "error",
     "traceback": [
      "\u001b[1;31m---------------------------------------------------------------------------\u001b[0m",
      "\u001b[1;31mRecursionError\u001b[0m                            Traceback (most recent call last)",
      "\u001b[1;32m<ipython-input-14-180d1f80a38b>\u001b[0m in \u001b[0;36m<module>\u001b[1;34m\u001b[0m\n\u001b[0;32m      9\u001b[0m \u001b[1;33m\u001b[0m\u001b[0m\n\u001b[0;32m     10\u001b[0m \u001b[0mstr\u001b[0m\u001b[1;33m=\u001b[0m\u001b[1;34m\"abc\"\u001b[0m\u001b[1;33m\u001b[0m\u001b[1;33m\u001b[0m\u001b[0m\n\u001b[1;32m---> 11\u001b[1;33m \u001b[0mprintPerm\u001b[0m\u001b[1;33m(\u001b[0m\u001b[0mstr\u001b[0m\u001b[1;33m,\u001b[0m\u001b[1;34m\"\"\u001b[0m\u001b[1;33m)\u001b[0m\u001b[1;33m\u001b[0m\u001b[1;33m\u001b[0m\u001b[0m\n\u001b[0m",
      "\u001b[1;32m<ipython-input-14-180d1f80a38b>\u001b[0m in \u001b[0;36mprintPerm\u001b[1;34m(str, permutation)\u001b[0m\n\u001b[0;32m      6\u001b[0m         \u001b[0mcurrChar\u001b[0m\u001b[1;33m=\u001b[0m\u001b[0mstr\u001b[0m\u001b[1;33m[\u001b[0m\u001b[0mi\u001b[0m\u001b[1;33m]\u001b[0m\u001b[1;33m\u001b[0m\u001b[1;33m\u001b[0m\u001b[0m\n\u001b[0;32m      7\u001b[0m         \u001b[0mnewStr\u001b[0m\u001b[1;33m=\u001b[0m \u001b[1;33m(\u001b[0m\u001b[0mstr\u001b[0m\u001b[1;33m[\u001b[0m\u001b[1;33m:\u001b[0m\u001b[0mi\u001b[0m\u001b[1;33m]\u001b[0m \u001b[1;33m+\u001b[0m \u001b[0mstr\u001b[0m\u001b[1;33m[\u001b[0m\u001b[1;33m:\u001b[0m\u001b[0mi\u001b[0m\u001b[1;33m+\u001b[0m\u001b[1;36m1\u001b[0m\u001b[1;33m]\u001b[0m\u001b[1;33m)\u001b[0m\u001b[1;33m\u001b[0m\u001b[1;33m\u001b[0m\u001b[0m\n\u001b[1;32m----> 8\u001b[1;33m         \u001b[0mprintPerm\u001b[0m\u001b[1;33m(\u001b[0m\u001b[0mnewStr\u001b[0m\u001b[1;33m,\u001b[0m\u001b[0mpermutation\u001b[0m\u001b[1;33m+\u001b[0m\u001b[0mcurrChar\u001b[0m\u001b[1;33m)\u001b[0m\u001b[1;33m\u001b[0m\u001b[1;33m\u001b[0m\u001b[0m\n\u001b[0m\u001b[0;32m      9\u001b[0m \u001b[1;33m\u001b[0m\u001b[0m\n\u001b[0;32m     10\u001b[0m \u001b[0mstr\u001b[0m\u001b[1;33m=\u001b[0m\u001b[1;34m\"abc\"\u001b[0m\u001b[1;33m\u001b[0m\u001b[1;33m\u001b[0m\u001b[0m\n",
      "... last 1 frames repeated, from the frame below ...\n",
      "\u001b[1;32m<ipython-input-14-180d1f80a38b>\u001b[0m in \u001b[0;36mprintPerm\u001b[1;34m(str, permutation)\u001b[0m\n\u001b[0;32m      6\u001b[0m         \u001b[0mcurrChar\u001b[0m\u001b[1;33m=\u001b[0m\u001b[0mstr\u001b[0m\u001b[1;33m[\u001b[0m\u001b[0mi\u001b[0m\u001b[1;33m]\u001b[0m\u001b[1;33m\u001b[0m\u001b[1;33m\u001b[0m\u001b[0m\n\u001b[0;32m      7\u001b[0m         \u001b[0mnewStr\u001b[0m\u001b[1;33m=\u001b[0m \u001b[1;33m(\u001b[0m\u001b[0mstr\u001b[0m\u001b[1;33m[\u001b[0m\u001b[1;33m:\u001b[0m\u001b[0mi\u001b[0m\u001b[1;33m]\u001b[0m \u001b[1;33m+\u001b[0m \u001b[0mstr\u001b[0m\u001b[1;33m[\u001b[0m\u001b[1;33m:\u001b[0m\u001b[0mi\u001b[0m\u001b[1;33m+\u001b[0m\u001b[1;36m1\u001b[0m\u001b[1;33m]\u001b[0m\u001b[1;33m)\u001b[0m\u001b[1;33m\u001b[0m\u001b[1;33m\u001b[0m\u001b[0m\n\u001b[1;32m----> 8\u001b[1;33m         \u001b[0mprintPerm\u001b[0m\u001b[1;33m(\u001b[0m\u001b[0mnewStr\u001b[0m\u001b[1;33m,\u001b[0m\u001b[0mpermutation\u001b[0m\u001b[1;33m+\u001b[0m\u001b[0mcurrChar\u001b[0m\u001b[1;33m)\u001b[0m\u001b[1;33m\u001b[0m\u001b[1;33m\u001b[0m\u001b[0m\n\u001b[0m\u001b[0;32m      9\u001b[0m \u001b[1;33m\u001b[0m\u001b[0m\n\u001b[0;32m     10\u001b[0m \u001b[0mstr\u001b[0m\u001b[1;33m=\u001b[0m\u001b[1;34m\"abc\"\u001b[0m\u001b[1;33m\u001b[0m\u001b[1;33m\u001b[0m\u001b[0m\n",
      "\u001b[1;31mRecursionError\u001b[0m: maximum recursion depth exceeded in comparison"
     ]
    }
   ],
   "source": [
    "def printPerm(str,permutation):\n",
    "    if(len(str)==0):\n",
    "        print(\"permutation\")\n",
    "        return\n",
    "    for i in range(len(str)):\n",
    "        currChar=str[i]\n",
    "        newStr= (str[:i] + str[:i+1])\n",
    "        printPerm(newStr,permutation+currChar)\n",
    "\n",
    "str=\"abc\"\n",
    "printPerm(str,\"\")"
   ]
  },
  {
   "cell_type": "code",
   "execution_count": null,
   "id": "2202cd2d",
   "metadata": {},
   "outputs": [],
   "source": []
  },
  {
   "cell_type": "code",
   "execution_count": null,
   "id": "5a1a6755",
   "metadata": {},
   "outputs": [],
   "source": [
    "def MyIntro(str your_name ,bool want_to_connect):\n",
    "    if len(your_name)>=1:\n",
    "        print(\"Hello \"+ your_name +\" , myself Shristi Sharan, Hope you well.\")     \n",
    "    else:\n",
    "        print(\"HIIII Alien ;| \"+ your_name)\n",
    "        \n",
    "        \n",
    "    if (want_to_connect == True):\n",
    "        print(\"Looking forward...... - shristisharan05@gmail.com\")\n",
    "    else:\n",
    "        print(\"No Issues, maybe next time :)\")\n",
    "    "
   ]
  },
  {
   "cell_type": "code",
   "execution_count": null,
   "id": "bf7c7467",
   "metadata": {},
   "outputs": [],
   "source": []
  },
  {
   "cell_type": "code",
   "execution_count": null,
   "id": "3a0cc876",
   "metadata": {},
   "outputs": [],
   "source": []
  },
  {
   "cell_type": "code",
   "execution_count": 6,
   "id": "006893a3",
   "metadata": {},
   "outputs": [
    {
     "name": "stdout",
     "output_type": "stream",
     "text": [
      "[0, 1, 1, 2, 3, 5, 8, 13]\n"
     ]
    }
   ],
   "source": [
    "### using simple recursion\n",
    "def fibo_seq(n):\n",
    "    \n",
    "    ## nth term of fibonacci seq\n",
    "    def fibo(n):\n",
    "        if n <= 0:\n",
    "            return 0\n",
    "        if n==1:\n",
    "            return 1\n",
    "        return fibo(n-1) + fibo(n-2)\n",
    "    \n",
    "    seq = []\n",
    "    for i in range(n):\n",
    "        seq.append(fibo(i))\n",
    "    \n",
    "    return seq\n",
    "\n",
    "\n",
    "print(fibo_seq(8))\n",
    "\n",
    "## O(2^n)"
   ]
  },
  {
   "cell_type": "code",
   "execution_count": null,
   "id": "0008dae6",
   "metadata": {},
   "outputs": [],
   "source": [
    "# 0,1,1,2,3,5,8,13,21,34,55...."
   ]
  },
  {
   "cell_type": "code",
   "execution_count": 8,
   "id": "200ec1b9",
   "metadata": {},
   "outputs": [],
   "source": [
    "# fibo(6) -- fibo(2) * 5 times"
   ]
  },
  {
   "cell_type": "code",
   "execution_count": 62,
   "id": "2cbe5772",
   "metadata": {},
   "outputs": [
    {
     "name": "stdout",
     "output_type": "stream",
     "text": [
      "[0, 1, 1, 2, 3, 5, 8, 13]\n"
     ]
    }
   ],
   "source": [
    "### Using Recursion + DP (Memoization) = Optimized Recursion\n",
    "def fibo_seq(n):\n",
    "    \n",
    "    ## nth term of fibonacci seq\n",
    "    def fibo(n, dp):\n",
    "        if n <= 0:\n",
    "            return 0\n",
    "        if n==1:\n",
    "            return 1\n",
    "        if dp[n] != 0:\n",
    "            return dp[n]\n",
    "        dp[n] = fibo(n-1, dp) + fibo(n-2, dp)\n",
    "        return dp[n]\n",
    "    \n",
    "    seq = []\n",
    "    dp = [0 for _ in range(n)]\n",
    "    \n",
    "    for i in range(n):\n",
    "        seq.append(fibo(i, dp))\n",
    "    \n",
    "    return seq\n",
    "\n",
    "print(fibo_seq(8))\n",
    "\n",
    "## O(n)"
   ]
  },
  {
   "cell_type": "code",
   "execution_count": 56,
   "id": "221334e9",
   "metadata": {},
   "outputs": [
    {
     "data": {
      "text/plain": [
       "[0, 0, 0, 0, 0, 0, 0, 0]"
      ]
     },
     "execution_count": 56,
     "metadata": {},
     "output_type": "execute_result"
    }
   ],
   "source": [
    "l1 = [0 for _ in range(8)]\n",
    "l1"
   ]
  },
  {
   "cell_type": "code",
   "execution_count": 44,
   "id": "3939ed32",
   "metadata": {},
   "outputs": [
    {
     "data": {
      "text/plain": [
       "[[1], [], [], [], [], [], [], []]"
      ]
     },
     "execution_count": 44,
     "metadata": {},
     "output_type": "execute_result"
    }
   ],
   "source": [
    "l1[0].append(1)\n",
    "l1"
   ]
  },
  {
   "cell_type": "code",
   "execution_count": null,
   "id": "97cd4171",
   "metadata": {},
   "outputs": [],
   "source": []
  },
  {
   "cell_type": "code",
   "execution_count": 52,
   "id": "df19bad0",
   "metadata": {},
   "outputs": [
    {
     "data": {
      "text/plain": [
       "[0, 0, 0, 0, 0, 0, 0, 0]"
      ]
     },
     "execution_count": 52,
     "metadata": {},
     "output_type": "execute_result"
    }
   ],
   "source": [
    "l2 = [0]*8\n",
    "l2"
   ]
  },
  {
   "cell_type": "code",
   "execution_count": 55,
   "id": "e2528d34",
   "metadata": {},
   "outputs": [
    {
     "data": {
      "text/plain": [
       "[1, 0, 0, 0, 0, 0, 0, 0]"
      ]
     },
     "execution_count": 55,
     "metadata": {},
     "output_type": "execute_result"
    }
   ],
   "source": [
    "l2[0] = 1\n",
    "l2"
   ]
  },
  {
   "cell_type": "code",
   "execution_count": 64,
   "id": "913af1de",
   "metadata": {},
   "outputs": [],
   "source": [
    "x = \"usa\""
   ]
  },
  {
   "cell_type": "code",
   "execution_count": 68,
   "id": "420b2c38",
   "metadata": {},
   "outputs": [],
   "source": [
    "x = x.upper()"
   ]
  },
  {
   "cell_type": "code",
   "execution_count": 66,
   "id": "27d48c58",
   "metadata": {},
   "outputs": [
    {
     "data": {
      "text/plain": [
       "'Usa'"
      ]
     },
     "execution_count": 66,
     "metadata": {},
     "output_type": "execute_result"
    }
   ],
   "source": [
    "x.capitalize()"
   ]
  },
  {
   "cell_type": "code",
   "execution_count": 69,
   "id": "836f0cf6",
   "metadata": {},
   "outputs": [
    {
     "data": {
      "text/plain": [
       "True"
      ]
     },
     "execution_count": 69,
     "metadata": {},
     "output_type": "execute_result"
    }
   ],
   "source": [
    "x.isupper()"
   ]
  },
  {
   "cell_type": "code",
   "execution_count": 70,
   "id": "5577c6ae",
   "metadata": {},
   "outputs": [
    {
     "data": {
      "text/plain": [
       "True"
      ]
     },
     "execution_count": 70,
     "metadata": {},
     "output_type": "execute_result"
    }
   ],
   "source": [
    "\"U\".isupper()"
   ]
  },
  {
   "cell_type": "code",
   "execution_count": 74,
   "id": "bd0ff14f",
   "metadata": {},
   "outputs": [
    {
     "ename": "AttributeError",
     "evalue": "'str' object has no attribute 'iscapitalize'",
     "output_type": "error",
     "traceback": [
      "\u001b[1;31m---------------------------------------------------------------------------\u001b[0m",
      "\u001b[1;31mAttributeError\u001b[0m                            Traceback (most recent call last)",
      "\u001b[1;32m<ipython-input-74-a73d703fad2c>\u001b[0m in \u001b[0;36m<module>\u001b[1;34m\u001b[0m\n\u001b[1;32m----> 1\u001b[1;33m \u001b[1;34m\"FlaG\"\u001b[0m \u001b[1;33m==\u001b[0m \u001b[1;34m\"FlaG\"\u001b[0m\u001b[1;33m.\u001b[0m\u001b[0miscapitalize\u001b[0m\u001b[1;33m(\u001b[0m\u001b[1;33m)\u001b[0m\u001b[1;33m\u001b[0m\u001b[1;33m\u001b[0m\u001b[0m\n\u001b[0m",
      "\u001b[1;31mAttributeError\u001b[0m: 'str' object has no attribute 'iscapitalize'"
     ]
    }
   ],
   "source": [
    "\"FlaG\" == \"FlaG\".capitalize()"
   ]
  },
  {
   "cell_type": "code",
   "execution_count": 76,
   "id": "be395606",
   "metadata": {},
   "outputs": [
    {
     "data": {
      "text/plain": [
       "True"
      ]
     },
     "execution_count": 76,
     "metadata": {},
     "output_type": "execute_result"
    }
   ],
   "source": [
    "\"Leetcode\".capitalize() == \"Leetcode\""
   ]
  },
  {
   "cell_type": "code",
   "execution_count": 80,
   "id": "e25a56ff",
   "metadata": {},
   "outputs": [
    {
     "data": {
      "text/plain": [
       "3"
      ]
     },
     "execution_count": 80,
     "metadata": {},
     "output_type": "execute_result"
    }
   ],
   "source": [
    "\"Leetcode\".count(\"e\")"
   ]
  },
  {
   "cell_type": "code",
   "execution_count": 115,
   "id": "70b2b67d",
   "metadata": {},
   "outputs": [
    {
     "name": "stdout",
     "output_type": "stream",
     "text": [
      "a\n",
      "b\n",
      "b\n",
      "a\n"
     ]
    }
   ],
   "source": [
    "pattern=\"abba\"\n",
    "x=list(pattern)\n",
    "s=x[0]\n",
    "if s == x[]\n",
    "    \n",
    "    \n",
    "\n"
   ]
  },
  {
   "cell_type": "code",
   "execution_count": 114,
   "id": "f1ecb6fb",
   "metadata": {},
   "outputs": [
    {
     "name": "stdout",
     "output_type": "stream",
     "text": [
      "{'a', 'b'}\n",
      "False\n"
     ]
    }
   ],
   "source": [
    "pattern=\"abba\"\n",
    "# s=\"dog cat cat dog\"\n",
    "# a=s.join(' ')\n",
    "# print(a)\n",
    "x=set(pattern)\n",
    "print(x)\n",
    "# z=set(s)\n",
    "# print(z)\n",
    "if len(x)==len(z):\n",
    "     print(\"True\")\n",
    "else:\n",
    "    print(\"False\")\n",
    "    \n",
    "    \n",
    "for i in\n",
    "    \n",
    "    \n",
    "    \n",
    "\n",
    "\n"
   ]
  },
  {
   "cell_type": "code",
   "execution_count": 128,
   "id": "b9caf825",
   "metadata": {},
   "outputs": [
    {
     "name": "stdout",
     "output_type": "stream",
     "text": [
      "['dog', 'dog', 'cat', 'cat']\n",
      "['a', 'a', 'b', 'b']\n",
      "false\n"
     ]
    }
   ],
   "source": [
    "#Input: pattern = \"abba\", s = \"dog cat cat dog\"\n",
    "#Output: true\n",
    "\n",
    "pattern = \"aabb\"\n",
    "s = \"dog dog cat cat\"\n",
    "x=s.split()\n",
    "print(x)\n",
    "z=list(pattern)\n",
    "print(z)\n",
    "z[0]=x[0]\n",
    "if z[0]==z[1]:\n",
    "    if x[0]==x[1]:\n",
    "        print(\"true\")\n",
    "    else:\n",
    "        print(\"false\")\n",
    "else :\n",
    "    print('false')"
   ]
  },
  {
   "cell_type": "code",
   "execution_count": null,
   "id": "6b693142",
   "metadata": {},
   "outputs": [],
   "source": [
    "#############Problem 944.Delete Columns to Make Sorted #######################"
   ]
  },
  {
   "cell_type": "code",
   "execution_count": 134,
   "id": "2d502afd",
   "metadata": {
    "scrolled": true
   },
   "outputs": [
    {
     "ename": "TypeError",
     "evalue": "'int' object is not iterable",
     "output_type": "error",
     "traceback": [
      "\u001b[1;31m---------------------------------------------------------------------------\u001b[0m",
      "\u001b[1;31mTypeError\u001b[0m                                 Traceback (most recent call last)",
      "\u001b[1;32m<ipython-input-134-2c671da502f9>\u001b[0m in \u001b[0;36m<module>\u001b[1;34m\u001b[0m\n\u001b[0;32m      1\u001b[0m \u001b[0mstrs\u001b[0m\u001b[1;33m=\u001b[0m\u001b[1;33m[\u001b[0m\u001b[1;34m\"cba\"\u001b[0m\u001b[1;33m,\u001b[0m\u001b[1;34m\"daf\"\u001b[0m\u001b[1;33m,\u001b[0m\u001b[1;34m\"ghi\"\u001b[0m\u001b[1;33m]\u001b[0m\u001b[1;33m\u001b[0m\u001b[1;33m\u001b[0m\u001b[0m\n\u001b[0;32m      2\u001b[0m \u001b[1;32mfor\u001b[0m \u001b[0mchar\u001b[0m \u001b[1;32min\u001b[0m \u001b[0mrange\u001b[0m\u001b[1;33m(\u001b[0m\u001b[0mlen\u001b[0m\u001b[1;33m(\u001b[0m\u001b[0mstrs\u001b[0m\u001b[1;33m)\u001b[0m\u001b[1;33m)\u001b[0m\u001b[1;33m:\u001b[0m\u001b[1;33m\u001b[0m\u001b[1;33m\u001b[0m\u001b[0m\n\u001b[1;32m----> 3\u001b[1;33m     \u001b[0ms\u001b[0m\u001b[1;33m=\u001b[0m\u001b[0mlist\u001b[0m\u001b[1;33m(\u001b[0m\u001b[0mchar\u001b[0m\u001b[1;33m)\u001b[0m\u001b[1;33m\u001b[0m\u001b[1;33m\u001b[0m\u001b[0m\n\u001b[0m\u001b[0;32m      4\u001b[0m     \u001b[0mprint\u001b[0m\u001b[1;33m(\u001b[0m\u001b[0ms\u001b[0m\u001b[1;33m)\u001b[0m\u001b[1;33m\u001b[0m\u001b[1;33m\u001b[0m\u001b[0m\n\u001b[0;32m      5\u001b[0m \u001b[1;33m\u001b[0m\u001b[0m\n",
      "\u001b[1;31mTypeError\u001b[0m: 'int' object is not iterable"
     ]
    }
   ],
   "source": [
    "strs=[\"cba\",\"daf\",\"ghi\"]\n",
    "for char in range(len(strs)):\n",
    "    s=list(char)\n",
    "    print(s)\n",
    "    "
   ]
  },
  {
   "cell_type": "code",
   "execution_count": 146,
   "id": "ab75a3b1",
   "metadata": {},
   "outputs": [
    {
     "ename": "TypeError",
     "evalue": "ord() expected string of length 1, but list found",
     "output_type": "error",
     "traceback": [
      "\u001b[1;31m---------------------------------------------------------------------------\u001b[0m",
      "\u001b[1;31mTypeError\u001b[0m                                 Traceback (most recent call last)",
      "\u001b[1;32m<ipython-input-146-dc25414ecd54>\u001b[0m in \u001b[0;36m<module>\u001b[1;34m\u001b[0m\n\u001b[0;32m      7\u001b[0m     \u001b[0ms\u001b[0m\u001b[1;33m.\u001b[0m\u001b[0mappend\u001b[0m\u001b[1;33m(\u001b[0m\u001b[0mlist\u001b[0m\u001b[1;33m(\u001b[0m\u001b[0mchar\u001b[0m\u001b[1;33m)\u001b[0m\u001b[1;33m)\u001b[0m\u001b[1;33m\u001b[0m\u001b[1;33m\u001b[0m\u001b[0m\n\u001b[0;32m      8\u001b[0m \u001b[1;32mif\u001b[0m \u001b[0mlen\u001b[0m\u001b[1;33m(\u001b[0m\u001b[0ms\u001b[0m\u001b[1;33m[\u001b[0m\u001b[1;36m0\u001b[0m\u001b[1;33m]\u001b[0m\u001b[1;33m)\u001b[0m\u001b[1;33m==\u001b[0m\u001b[1;36m1\u001b[0m\u001b[1;33m:\u001b[0m\u001b[1;33m\u001b[0m\u001b[1;33m\u001b[0m\u001b[0m\n\u001b[1;32m----> 9\u001b[1;33m     \u001b[1;32mif\u001b[0m \u001b[0mord\u001b[0m\u001b[1;33m(\u001b[0m\u001b[0ms\u001b[0m\u001b[1;33m[\u001b[0m\u001b[1;36m0\u001b[0m\u001b[1;33m]\u001b[0m\u001b[1;33m)\u001b[0m\u001b[1;33m<\u001b[0m \u001b[0mord\u001b[0m\u001b[1;33m(\u001b[0m\u001b[0ms\u001b[0m\u001b[1;33m[\u001b[0m\u001b[1;36m1\u001b[0m\u001b[1;33m]\u001b[0m\u001b[1;33m)\u001b[0m\u001b[1;33m:\u001b[0m\u001b[1;33m\u001b[0m\u001b[1;33m\u001b[0m\u001b[0m\n\u001b[0m\u001b[0;32m     10\u001b[0m         \u001b[0mprint\u001b[0m\u001b[1;33m(\u001b[0m\u001b[1;34m\"0\"\u001b[0m\u001b[1;33m)\u001b[0m\u001b[1;33m\u001b[0m\u001b[1;33m\u001b[0m\u001b[0m\n\u001b[0;32m     11\u001b[0m \u001b[1;33m\u001b[0m\u001b[0m\n",
      "\u001b[1;31mTypeError\u001b[0m: ord() expected string of length 1, but list found"
     ]
    }
   ],
   "source": [
    "strs=[\"a\",\"b\"]\n",
    "s=[]\n",
    "if len(strs)==1:\n",
    "    print(\"0\")\n",
    "    \n",
    "for char in strs:\n",
    "    s.append(list(char))\n",
    "\n",
    " \n",
    "\n",
    "    \n",
    "#     s=list(strs[char])\n"
   ]
  },
  {
   "cell_type": "code",
   "execution_count": 147,
   "id": "f47abb33",
   "metadata": {},
   "outputs": [
    {
     "ename": "IndexError",
     "evalue": "list index out of range",
     "output_type": "error",
     "traceback": [
      "\u001b[1;31m---------------------------------------------------------------------------\u001b[0m",
      "\u001b[1;31mIndexError\u001b[0m                                Traceback (most recent call last)",
      "\u001b[1;32m<ipython-input-147-a678e5f09452>\u001b[0m in \u001b[0;36m<module>\u001b[1;34m\u001b[0m\n\u001b[0;32m      3\u001b[0m \u001b[1;32mfor\u001b[0m \u001b[0mi\u001b[0m \u001b[1;32min\u001b[0m \u001b[0mrange\u001b[0m\u001b[1;33m(\u001b[0m\u001b[1;36m0\u001b[0m\u001b[1;33m,\u001b[0m\u001b[0mlen\u001b[0m\u001b[1;33m(\u001b[0m\u001b[0mstrs\u001b[0m\u001b[1;33m[\u001b[0m\u001b[1;36m0\u001b[0m\u001b[1;33m]\u001b[0m\u001b[1;33m)\u001b[0m\u001b[1;33m)\u001b[0m\u001b[1;33m:\u001b[0m\u001b[1;33m\u001b[0m\u001b[1;33m\u001b[0m\u001b[0m\n\u001b[0;32m      4\u001b[0m     \u001b[1;32mfor\u001b[0m \u001b[0mj\u001b[0m \u001b[1;32min\u001b[0m \u001b[0mrange\u001b[0m\u001b[1;33m(\u001b[0m\u001b[1;36m0\u001b[0m\u001b[1;33m,\u001b[0m\u001b[0mlen\u001b[0m\u001b[1;33m(\u001b[0m\u001b[0mstrs\u001b[0m\u001b[1;33m)\u001b[0m\u001b[1;33m)\u001b[0m\u001b[1;33m:\u001b[0m\u001b[1;33m\u001b[0m\u001b[1;33m\u001b[0m\u001b[0m\n\u001b[1;32m----> 5\u001b[1;33m         \u001b[1;32mif\u001b[0m\u001b[1;33m(\u001b[0m\u001b[0mstrs\u001b[0m\u001b[1;33m[\u001b[0m\u001b[0mj\u001b[0m\u001b[1;33m]\u001b[0m\u001b[1;33m[\u001b[0m\u001b[0mi\u001b[0m\u001b[1;33m]\u001b[0m\u001b[1;33m>\u001b[0m\u001b[0mstrs\u001b[0m\u001b[1;33m[\u001b[0m\u001b[0mj\u001b[0m\u001b[1;33m+\u001b[0m\u001b[1;36m1\u001b[0m\u001b[1;33m]\u001b[0m\u001b[1;33m[\u001b[0m\u001b[0mi\u001b[0m\u001b[1;33m]\u001b[0m\u001b[1;33m)\u001b[0m\u001b[1;33m:\u001b[0m\u001b[1;33m\u001b[0m\u001b[1;33m\u001b[0m\u001b[0m\n\u001b[0m\u001b[0;32m      6\u001b[0m             \u001b[0mcount\u001b[0m\u001b[1;33m+=\u001b[0m\u001b[1;36m1\u001b[0m\u001b[1;33m\u001b[0m\u001b[1;33m\u001b[0m\u001b[0m\n\u001b[0;32m      7\u001b[0m             \u001b[1;32mbreak\u001b[0m\u001b[1;33m\u001b[0m\u001b[1;33m\u001b[0m\u001b[0m\n",
      "\u001b[1;31mIndexError\u001b[0m: list index out of range"
     ]
    }
   ],
   "source": [
    "strs=[\"a\",\"b\"]\n",
    "count=0\n",
    "for i in range(0,len(strs[0])):\n",
    "    for j in range(0,len(strs)):\n",
    "        if(strs[j][i]>strs[j+1][i]):\n",
    "            count+=1\n",
    "            break\n",
    "    print(count) "
   ]
  },
  {
   "cell_type": "code",
   "execution_count": 183,
   "id": "29f93a60",
   "metadata": {},
   "outputs": [],
   "source": [
    "def mindel(self,strs):\n",
    "        col=len(strs[0])\n",
    "        row=len(strs)\n",
    "        count=0\n",
    "        for i in range(col):\n",
    "            for j in range(1,row):\n",
    "                if strs[j-1][i]> strs[j][i]:\n",
    "                    count+=1\n",
    "                    break\n",
    "        return count"
   ]
  },
  {
   "cell_type": "code",
   "execution_count": 184,
   "id": "8c33dfe7",
   "metadata": {},
   "outputs": [
    {
     "data": {
      "text/plain": [
       "0"
      ]
     },
     "execution_count": 184,
     "metadata": {},
     "output_type": "execute_result"
    }
   ],
   "source": [
    "strs=[\"a\",\"b\"]\n",
    "mindel(0,strs)\n"
   ]
  },
  {
   "cell_type": "code",
   "execution_count": null,
   "id": "e3ce50eb",
   "metadata": {},
   "outputs": [],
   "source": [
    "A=[]"
   ]
  },
  {
   "cell_type": "code",
   "execution_count": null,
   "id": "2450fadf",
   "metadata": {},
   "outputs": [],
   "source": []
  },
  {
   "cell_type": "code",
   "execution_count": null,
   "id": "266e9b06",
   "metadata": {},
   "outputs": [],
   "source": [
    "# Input: pattern = \"abba\", s = \"dog cat cat dog\"\n",
    "# Output: true\n",
    "\n",
    "# Input: pattern = \"abba\", s = \"dog cat cat fish\"\n",
    "# Output: false"
   ]
  },
  {
   "cell_type": "code",
   "execution_count": 158,
   "id": "be435dfb",
   "metadata": {},
   "outputs": [],
   "source": [
    "pattern = \"abba\"\n",
    "s = \"dog cat cat dog\""
   ]
  },
  {
   "cell_type": "code",
   "execution_count": 172,
   "id": "a62abf2b",
   "metadata": {},
   "outputs": [],
   "source": [
    "pattern = \"abba\"\n",
    "s = \"dog cat cat fish\""
   ]
  },
  {
   "cell_type": "code",
   "execution_count": 173,
   "id": "cfd89056",
   "metadata": {},
   "outputs": [
    {
     "data": {
      "text/plain": [
       "['dog', 'cat', 'cat', 'fish']"
      ]
     },
     "execution_count": 173,
     "metadata": {},
     "output_type": "execute_result"
    }
   ],
   "source": [
    "s = s.split(' ')\n",
    "s"
   ]
  },
  {
   "cell_type": "code",
   "execution_count": 177,
   "id": "57917cb5",
   "metadata": {},
   "outputs": [
    {
     "data": {
      "text/plain": [
       "'abba'"
      ]
     },
     "execution_count": 177,
     "metadata": {},
     "output_type": "execute_result"
    }
   ],
   "source": [
    "pattern"
   ]
  },
  {
   "cell_type": "code",
   "execution_count": 174,
   "id": "3d372afb",
   "metadata": {},
   "outputs": [],
   "source": [
    "set_dict = {}"
   ]
  },
  {
   "cell_type": "code",
   "execution_count": 175,
   "id": "cd5f7e86",
   "metadata": {},
   "outputs": [],
   "source": [
    "for i in range(len(pattern)):\n",
    "    if pattern[i] in set_dict:\n",
    "        val = set_dict[pattern[i]]\n",
    "        set_dict.update({pattern[i]:val.append(s[i])})\n",
    "    set_dict.update({pattern[i]:[s[i]]})\n",
    "#     print(pattern[i])\n",
    "#     print(s[i])"
   ]
  },
  {
   "cell_type": "code",
   "execution_count": 176,
   "id": "a099ee10",
   "metadata": {},
   "outputs": [
    {
     "data": {
      "text/plain": [
       "{'a': ['fish'], 'b': ['cat']}"
      ]
     },
     "execution_count": 176,
     "metadata": {},
     "output_type": "execute_result"
    }
   ],
   "source": [
    "set_dict"
   ]
  },
  {
   "cell_type": "code",
   "execution_count": null,
   "id": "dfa78e97",
   "metadata": {},
   "outputs": [],
   "source": []
  },
  {
   "cell_type": "code",
   "execution_count": null,
   "id": "b92b0f75",
   "metadata": {},
   "outputs": [],
   "source": [
    "### Problem 2244.Minimum Rounds to Complete All Tasks"
   ]
  },
  {
   "cell_type": "code",
   "execution_count": 185,
   "id": "a661b5b8",
   "metadata": {},
   "outputs": [
    {
     "ename": "SyntaxError",
     "evalue": "cannot assign to operator (<ipython-input-185-b90dc3e7e280>, line 14)",
     "output_type": "error",
     "traceback": [
      "\u001b[1;36m  File \u001b[1;32m\"<ipython-input-185-b90dc3e7e280>\"\u001b[1;36m, line \u001b[1;32m14\u001b[0m\n\u001b[1;33m    (value/2)=store\u001b[0m\n\u001b[1;37m    ^\u001b[0m\n\u001b[1;31mSyntaxError\u001b[0m\u001b[1;31m:\u001b[0m cannot assign to operator\n"
     ]
    }
   ],
   "source": [
    "\n",
    "def minimumRounds(self,tasks):\n",
    "    import math\n",
    "    diction={}\n",
    "    count=0\n",
    "    merge=0\n",
    "    for i in range(0,len(tasks)):\n",
    "        for j in range(0,len(tasks)):\n",
    "            if tasks[i]==task[j]:\n",
    "                count+=1\n",
    "                diction[tasks[i]]=count\n",
    "            count=0\n",
    "            \n",
    "    for value in diction:\n",
    "            (value/2)=store\n",
    "            new=math.floor(store)\n",
    "            x=value-new\n",
    "            if (x % 2==0):\n",
    "                x/2=check\n",
    "                merge+=check\n",
    "            elif(x % 3==0):\n",
    "                x/3=check\n",
    "                merge+=check\n",
    "            \n",
    "    return merge\n",
    "            \n",
    "            \n",
    "            \n",
    "                \n",
    "    "
   ]
  },
  {
   "cell_type": "code",
   "execution_count": 187,
   "id": "dede2ef6",
   "metadata": {},
   "outputs": [],
   "source": [
    "tasks=[2,2,3,3,2,4,4,4,4,4]\n",
    "diction={}\n",
    "count=0\n",
    "merge=0\n",
    "for i in range(0,len(tasks)):\n",
    "    for j in range(0,len(tasks)):\n",
    "        if tasks[i]==tasks[j]:\n",
    "            count+=1\n",
    "            diction[tasks[i]]=count\n",
    "        count=0\n",
    "\n"
   ]
  },
  {
   "cell_type": "code",
   "execution_count": 188,
   "id": "b3b6e0fb",
   "metadata": {},
   "outputs": [
    {
     "data": {
      "text/plain": [
       "{2: 1, 3: 1, 4: 1}"
      ]
     },
     "execution_count": 188,
     "metadata": {},
     "output_type": "execute_result"
    }
   ],
   "source": [
    "diction"
   ]
  },
  {
   "cell_type": "code",
   "execution_count": 189,
   "id": "f607ffb3",
   "metadata": {},
   "outputs": [],
   "source": [
    "tasks=[2,2,3,3,2,4,4,4,4,4]\n",
    "diction={}\n",
    "for i in range(len(tasks)):\n",
    "    if tasks[i] not in diction:\n",
    "        count=1\n",
    "        diction.update({tasks[i]:count})\n",
    "    else:\n",
    "        count=diction[tasks[i]]+1\n",
    "        diction.update({tasks[i]:count})\n",
    "        \n",
    "if 1 in diction.values():\n",
    "    return -1\n",
    "\n",
    "output = 0\n",
    "for n in diction.values():\n",
    "    output += n//3 + bool(n%3)"
   ]
  },
  {
   "cell_type": "code",
   "execution_count": 242,
   "id": "bac6e6fa",
   "metadata": {},
   "outputs": [
    {
     "data": {
      "text/plain": [
       "5"
      ]
     },
     "execution_count": 242,
     "metadata": {},
     "output_type": "execute_result"
    }
   ],
   "source": [
    "n=5\n",
    "n"
   ]
  },
  {
   "cell_type": "code",
   "execution_count": 245,
   "id": "bc589283",
   "metadata": {},
   "outputs": [
    {
     "data": {
      "text/plain": [
       "0"
      ]
     },
     "execution_count": 245,
     "metadata": {},
     "output_type": "execute_result"
    }
   ],
   "source": [
    "(n%3)%2"
   ]
  },
  {
   "cell_type": "code",
   "execution_count": 246,
   "id": "b349ddc1",
   "metadata": {},
   "outputs": [
    {
     "data": {
      "text/plain": [
       "0"
      ]
     },
     "execution_count": 246,
     "metadata": {},
     "output_type": "execute_result"
    }
   ],
   "source": [
    "18%3"
   ]
  },
  {
   "cell_type": "code",
   "execution_count": 243,
   "id": "77f97ca0",
   "metadata": {},
   "outputs": [
    {
     "data": {
      "text/plain": [
       "1"
      ]
     },
     "execution_count": 243,
     "metadata": {},
     "output_type": "execute_result"
    }
   ],
   "source": [
    "n//3"
   ]
  },
  {
   "cell_type": "code",
   "execution_count": 244,
   "id": "4d0fbfc5",
   "metadata": {},
   "outputs": [
    {
     "data": {
      "text/plain": [
       "True"
      ]
     },
     "execution_count": 244,
     "metadata": {},
     "output_type": "execute_result"
    }
   ],
   "source": [
    "bool(n%3)"
   ]
  },
  {
   "cell_type": "code",
   "execution_count": 228,
   "id": "f466f1e6",
   "metadata": {},
   "outputs": [
    {
     "data": {
      "text/plain": [
       "2.6666666666666665"
      ]
     },
     "execution_count": 228,
     "metadata": {},
     "output_type": "execute_result"
    }
   ],
   "source": [
    "8/3"
   ]
  },
  {
   "cell_type": "code",
   "execution_count": 210,
   "id": "359b84f1",
   "metadata": {},
   "outputs": [
    {
     "data": {
      "text/plain": [
       "{2: 3, 3: 2, 4: 5}"
      ]
     },
     "execution_count": 210,
     "metadata": {},
     "output_type": "execute_result"
    }
   ],
   "source": [
    "diction"
   ]
  },
  {
   "cell_type": "code",
   "execution_count": 211,
   "id": "79b3303f",
   "metadata": {},
   "outputs": [
    {
     "data": {
      "text/plain": [
       "dict_keys([2, 3, 4])"
      ]
     },
     "execution_count": 211,
     "metadata": {},
     "output_type": "execute_result"
    }
   ],
   "source": [
    "diction.keys()"
   ]
  },
  {
   "cell_type": "code",
   "execution_count": 212,
   "id": "a9a6bef0",
   "metadata": {},
   "outputs": [
    {
     "data": {
      "text/plain": [
       "dict_values([3, 2, 5])"
      ]
     },
     "execution_count": 212,
     "metadata": {},
     "output_type": "execute_result"
    }
   ],
   "source": [
    "diction.values()"
   ]
  },
  {
   "cell_type": "code",
   "execution_count": null,
   "id": "427b80f3",
   "metadata": {},
   "outputs": [],
   "source": []
  },
  {
   "cell_type": "code",
   "execution_count": null,
   "id": "e73b5bb9",
   "metadata": {},
   "outputs": [],
   "source": []
  },
  {
   "cell_type": "code",
   "execution_count": null,
   "id": "9d73210c",
   "metadata": {},
   "outputs": [],
   "source": [
    "#print all permutations of a string"
   ]
  }
 ],
 "metadata": {
  "kernelspec": {
   "display_name": "Python 3",
   "language": "python",
   "name": "python3"
  },
  "language_info": {
   "codemirror_mode": {
    "name": "ipython",
    "version": 3
   },
   "file_extension": ".py",
   "mimetype": "text/x-python",
   "name": "python",
   "nbconvert_exporter": "python",
   "pygments_lexer": "ipython3",
   "version": "3.8.8"
  }
 },
 "nbformat": 4,
 "nbformat_minor": 5
}
