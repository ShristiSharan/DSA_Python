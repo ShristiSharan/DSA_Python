{
 "cells": [
  {
   "cell_type": "code",
   "execution_count": 1,
   "id": "01412ec7",
   "metadata": {},
   "outputs": [
    {
     "name": "stdout",
     "output_type": "stream",
     "text": [
      "________Data Structures & Algorithms__________\n",
      "Topics covered--LINKED LIST<<\n"
     ]
    }
   ],
   "source": [
    "print(\"________Data Structures & Algorithms__________\")\n",
    "print(\"Topics covered--LINKED LIST<<\")"
   ]
  },
  {
   "cell_type": "code",
   "execution_count": null,
   "id": "fd1d30a7",
   "metadata": {},
   "outputs": [],
   "source": [
    "#********************************** LINKED LIST ************************************************"
   ]
  },
  {
   "cell_type": "code",
   "execution_count": 2,
   "id": "41406e4f",
   "metadata": {},
   "outputs": [
    {
     "name": "stdout",
     "output_type": "stream",
     "text": [
      "Used mainly in case of Insertion as O=O(1), much lesser than an arrayList \n"
     ]
    }
   ],
   "source": [
    "print(\"Used mainly in case of Insertion as O=O(1), much lesser than an arrayList \")\n"
   ]
  },
  {
   "cell_type": "code",
   "execution_count": 10,
   "id": "c96da6c4",
   "metadata": {},
   "outputs": [
    {
     "ename": "IndentationError",
     "evalue": "unexpected indent (<ipython-input-10-6d577c9438a2>, line 27)",
     "output_type": "error",
     "traceback": [
      "\u001b[1;36m  File \u001b[1;32m\"<ipython-input-10-6d577c9438a2>\"\u001b[1;36m, line \u001b[1;32m27\u001b[0m\n\u001b[1;33m    def AddatLast(self,new_data):\u001b[0m\n\u001b[1;37m    ^\u001b[0m\n\u001b[1;31mIndentationError\u001b[0m\u001b[1;31m:\u001b[0m unexpected indent\n"
     ]
    }
   ],
   "source": [
    "#Addition in linked list\n",
    "\n",
    "#at first-----\n",
    "class Node():\n",
    "    size=0\n",
    "    def _init_(self,data):\n",
    "        self.data=data\n",
    "        self.next=None\n",
    "        size+=1\n",
    "    \n",
    "    def AddatFirst(self,new_data):\n",
    "        \n",
    "        newNode= Node(new_data)      # first allocate the new node and then and the new data \n",
    "        \n",
    "        if (head==None):             #checking if the head is empty directly assigning\n",
    "            head=newNode\n",
    "            return\n",
    "        \n",
    "        newNode.next=self.head      # if not then first directing the next to the previous head\n",
    "        \n",
    "        self.head=newNode          # and now the newnode becomining the Head fibally :)\n",
    "        \n",
    "________________________________________________________________________________________________________________________________\n",
    "#$IMP$- \"We don't change the or update the head directly that's we assign it as a var and then keep updating as move forward.\"\n",
    "\n",
    "#at last-------\n",
    "    def AddatLast(self,new_data):\n",
    "         newNode= Node(new_data)      # first allocate the new node and then and the new data \n",
    "        \n",
    "         if (head==None):             #checking if the head is empty directly assigning\n",
    "                head=newNode\n",
    "                return\n",
    "         last=self.head\n",
    "         while(last.next):          #Traverse through last node ,checking where the next comes = to none\n",
    "            last=last.next         # as we get the end just fit the last there itself.\n",
    "         last.next=newNode\n",
    "        \n",
    "    \n",
    "class LinkedList():\n",
    "    \n",
    "    def _init_(self):          #ASSIGNING THE HEAD BASICALLY IT NEEDS TO BE ON TOP\n",
    "        self.head=None\n",
    "        "
   ]
  },
  {
   "cell_type": "code",
   "execution_count": null,
   "id": "00f05509",
   "metadata": {},
   "outputs": [],
   "source": [
    "#Deletion in Linked List\n",
    "\n",
    "#atfirst\n",
    "\n",
    "   def deleteatFirst():\n",
    "        if head==None :\n",
    "            print(\"The list is empty\")\n",
    "            return\n",
    "        head=head.next\n",
    "        \n",
    "    def deleteatLast():\n",
    "        if head==None :                             #corner cases where list is empty\n",
    "            print(\"The list is empty\")\n",
    "            return\n",
    "        size-=1\n",
    "        if (head.next=None):                       #another corner case where there's only one node \n",
    "            head=None\n",
    "            return\n",
    "        \n",
    "        Node sndlast=head                        #first shifting the position of head to second last\n",
    "        Node lastNode=head.next                  #and making the last one as next of head\n",
    "        \n",
    "        while(lastNode.next is not None):        # as we shift the head the rest prev are automatically deleted \n",
    "            lastNode= lastNode.next\n",
    "            sndlast=sndlast.next\n",
    "        \n",
    "        sndlast.next=None\n",
    "        "
   ]
  },
  {
   "cell_type": "code",
   "execution_count": null,
   "id": "45726c4b",
   "metadata": {},
   "outputs": [],
   "source": [
    "    #for adding at last we need not to specify basic .add means it will add at the end only "
   ]
  },
  {
   "cell_type": "code",
   "execution_count": 12,
   "id": "57ba13bc",
   "metadata": {},
   "outputs": [
    {
     "ename": "IndentationError",
     "evalue": "unindent does not match any outer indentation level (<tokenize>, line 13)",
     "output_type": "error",
     "traceback": [
      "\u001b[1;36m  File \u001b[1;32m\"<tokenize>\"\u001b[1;36m, line \u001b[1;32m13\u001b[0m\n\u001b[1;33m    def reverserecursive(Node head):\u001b[0m\n\u001b[1;37m    ^\u001b[0m\n\u001b[1;31mIndentationError\u001b[0m\u001b[1;31m:\u001b[0m unindent does not match any outer indentation level\n"
     ]
    }
   ],
   "source": [
    "    def reverse(self):\n",
    "        prev = None\n",
    "        current = self.head\n",
    "        while(current is not None):\n",
    "            next = current.next\n",
    "            current.next = prev\n",
    "            prev = current\n",
    "            current = next\n",
    "        self.head = prev\n",
    "         \n",
    " # Recursive Iteration...................\n",
    "\n",
    "    def reverserecursive(self, head):\n",
    "        if head is None or head.next is None:\n",
    "            return head\n",
    " \n",
    "        # Reverse the rest list\n",
    "        rest = self.reverserecursive(head.next)\n",
    " \n",
    "        # Put first element at the end\n",
    "        head.next.next = head\n",
    "        head.next = None\n",
    " \n",
    "        # Fix the header pointer\n",
    "        return rest"
   ]
  },
  {
   "cell_type": "code",
   "execution_count": null,
   "id": "3bf62909",
   "metadata": {},
   "outputs": [],
   "source": [
    "\n",
    "\n"
   ]
  },
  {
   "cell_type": "code",
   "execution_count": null,
   "id": "18a40779",
   "metadata": {},
   "outputs": [],
   "source": []
  },
  {
   "cell_type": "code",
   "execution_count": null,
   "id": "14bb962e",
   "metadata": {},
   "outputs": [],
   "source": []
  }
 ],
 "metadata": {
  "kernelspec": {
   "display_name": "Python 3",
   "language": "python",
   "name": "python3"
  },
  "language_info": {
   "codemirror_mode": {
    "name": "ipython",
    "version": 3
   },
   "file_extension": ".py",
   "mimetype": "text/x-python",
   "name": "python",
   "nbconvert_exporter": "python",
   "pygments_lexer": "ipython3",
   "version": "3.8.8"
  }
 },
 "nbformat": 4,
 "nbformat_minor": 5
}
