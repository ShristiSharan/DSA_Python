{
 "cells": [
  {
   "cell_type": "code",
   "execution_count": null,
   "metadata": {},
   "outputs": [],
   "source": [
    "#STACK-------LIFO(Last in first out)\n",
    "\n",
    "Push()    |\n",
    "Pop()     | All three access the first of any stack\n",
    "Peak()    | these accept no arguments"
   ]
  },
  {
   "cell_type": "code",
   "execution_count": null,
   "metadata": {},
   "outputs": [],
   "source": [
    "#Stack  can be  made from ArrayList and linked list \n",
    "# as it has variable size\n",
    "\n",
    "#If from linkedlist the top element will be considered as head--O(n)\n"
   ]
  },
  {
   "cell_type": "code",
   "execution_count": null,
   "metadata": {},
   "outputs": [],
   "source": [
    "stack=[]\n",
    "\n",
    "stack.append(\"a\")\n",
    "stack.append(\"b\")\n",
    "stack.append(\"c\")\n",
    "\n",
    "print(stack)"
   ]
  },
  {
   "cell_type": "code",
   "execution_count": null,
   "metadata": {},
   "outputs": [],
   "source": [
    "stack.pop()\n",
    "stack"
   ]
  },
  {
   "cell_type": "code",
   "execution_count": null,
   "metadata": {},
   "outputs": [],
   "source": [
    "from collections import deque\n",
    " \n",
    "stacks = deque()\n",
    "\n",
    "stacks.append(\"a\")\n",
    "stacks.append(\"b\")\n",
    "stacks.append(\"c\")\n",
    "\n",
    "stacks.pop()\n",
    "stacks"
   ]
  },
  {
   "cell_type": "code",
   "execution_count": null,
   "metadata": {},
   "outputs": [],
   "source": [
    "#LinkedList-----Stacks:\n",
    "# Node newNode= new Node(data):\n",
    "#newNode.next=head\n",
    "#head=newNode\n",
    "    "
   ]
  },
  {
   "cell_type": "code",
   "execution_count": null,
   "metadata": {},
   "outputs": [],
   "source": [
    "#Q1.Push at the bottom of the stack\n",
    "\n",
    "from collections import deque\n",
    "\n",
    "def pushAtBottom(stak,data):\n",
    "    if(len(stak)==0):\n",
    "        stak.append(data)\n",
    "        return\n",
    "    \n",
    "    top=stak.pop()\n",
    "    pushAtBottom(s,data)\n",
    "    stak.append(top)\n",
    "    "
   ]
  },
  {
   "cell_type": "code",
   "execution_count": null,
   "metadata": {},
   "outputs": [],
   "source": [
    "#Q2. Reverse a string using a stack\n",
    "\n",
    "def reverseString(stri):\n",
    "    "
   ]
  }
 ],
 "metadata": {
  "language_info": {
   "name": "python"
  },
  "orig_nbformat": 4
 },
 "nbformat": 4,
 "nbformat_minor": 2
}
